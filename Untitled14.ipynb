{
 "cells": [
  {
   "cell_type": "code",
   "execution_count": 14,
   "metadata": {},
   "outputs": [
    {
     "name": "stdout",
     "output_type": "stream",
     "text": [
      "········\n"
     ]
    },
    {
     "data": {
      "text/plain": [
       "(221, b'2.0.0 closing connection y17sm1534978edv.51 - gsmtp')"
      ]
     },
     "execution_count": 14,
     "metadata": {},
     "output_type": "execute_result"
    }
   ],
   "source": [
    "import smtplib\n",
    "from getpass import getpass\n",
    "from email.mime.multipart import MIMEMultipart\n",
    "from email.mime.text import MIMEText\n",
    "from email.mime.base import MIMEBase\n",
    "from email import encoders\n",
    "\n",
    "# connecting to smtp server\n",
    "smtpObj = smtplib.SMTP('smtp.gmail.com',587)\n",
    "smtpObj.ehlo()\n",
    "smtpObj.starttls()\n",
    "  \n",
    "# instance of MIMEMultipart\n",
    "msg = MIMEMultipart()\n",
    "\n",
    "# storing the senders email address  \n",
    "msg['From'] = \"lateerdogane@gmail.com\"\n",
    "  \n",
    "# storing the receivers email address \n",
    "msg['To'] = \"koffieza71@gmail.com\"\n",
    "  \n",
    "# storing the subject \n",
    "msg['Subject'] = \"ShadowServer report date\"\n",
    "\n",
    "#Content of Message\n",
    "# string to store the body of the mail\n",
    "body = \"\"\"From: <lateerdogane@gmail.com>\n",
    "To: <koffieza71@gmail.com>\n",
    "Subject: ShadowServer Report new\n",
    "\n",
    "This {} is a test e-mail message.\n",
    "\"\"\"\n",
    "\n",
    "#Authenfication Process\n",
    "PASSWORD = getpass()\n",
    "smtpObj.login(msg['From'], PASSWORD)\n",
    "\n",
    "# attach the body with the msg instance\n",
    "msg.attach(MIMEText(body, 'plain'))\n",
    "  \n",
    "# open the file to be sent \n",
    "filename = \"TODO.txt\"\n",
    "attachment = open(\"TODO.txt\", \"rb\")\n",
    "  \n",
    "# instance of MIMEBase and named as p\n",
    "p = MIMEBase('application', 'octet-stream')\n",
    "  \n",
    "# To change the payload into encoded form\n",
    "p.set_payload((attachment).read())\n",
    "  \n",
    "# encode into base64\n",
    "encoders.encode_base64(p)\n",
    "   \n",
    "p.add_header('Content-Disposition', \"attachment; filename= %s\" % filename)\n",
    "  \n",
    "# attach the instance 'p' to instance 'msg'\n",
    "msg.attach(p)\n",
    "\n",
    "# sending the email\n",
    "smtpObj.sendmail(msg['From'], msg['To'], msg.as_string() )\n",
    "smtpObj.quit()"
   ]
  },
  {
   "cell_type": "code",
   "execution_count": null,
   "metadata": {},
   "outputs": [],
   "source": []
  }
 ],
 "metadata": {
  "kernelspec": {
   "display_name": "Python 3",
   "language": "python",
   "name": "python3"
  },
  "language_info": {
   "codemirror_mode": {
    "name": "ipython",
    "version": 3
   },
   "file_extension": ".py",
   "mimetype": "text/x-python",
   "name": "python",
   "nbconvert_exporter": "python",
   "pygments_lexer": "ipython3",
   "version": "3.8.3"
  }
 },
 "nbformat": 4,
 "nbformat_minor": 4
}
